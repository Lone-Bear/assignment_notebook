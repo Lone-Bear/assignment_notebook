{
 "cells": [
  {
   "cell_type": "markdown",
   "metadata": {},
   "source": [
    "# Initializing Browsers"
   ]
  },
  {
   "cell_type": "code",
   "execution_count": 25,
   "metadata": {},
   "outputs": [],
   "source": [
    "from selenium import webdriver\n",
    "chrome_driver_location = \"chromedriver.exe\"\n",
    "firefox_driver_location = \"geckodriver.exe\""
   ]
  },
  {
   "cell_type": "code",
   "execution_count": 26,
   "metadata": {},
   "outputs": [],
   "source": [
    "driver = webdriver.Chrome(executable_path=chrome_driver_location)"
   ]
  },
  {
   "cell_type": "code",
   "execution_count": 27,
   "metadata": {},
   "outputs": [],
   "source": [
    "driver = webdriver.Firefox(executable_path=firefox_driver_location)"
   ]
  },
  {
   "cell_type": "code",
   "execution_count": 28,
   "metadata": {},
   "outputs": [],
   "source": [
    "#Creating a method for future use\n",
    "def open_browser(browser):\n",
    "    if browser.lower() == \"chrome\":\n",
    "        chrome_driver_location = \"chromedriver.exe\"\n",
    "        driver = webdriver.Chrome(executable_path=chrome_driver_location)\n",
    "        return driver\n",
    "    elif browser.lower() == \"firefox\":\n",
    "        firefox_driver_location = \"geckodriver.exe\"\n",
    "        driver = webdriver.Chrome(executable_path=firefox_driver_location)\n",
    "        return driver\n",
    "    else:\n",
    "        print(\"Browser not supported. Suggested values are [Chrome,Firefox]\")"
   ]
  },
  {
   "cell_type": "markdown",
   "metadata": {},
   "source": [
    "# Opening a website"
   ]
  },
  {
   "cell_type": "code",
   "execution_count": 29,
   "metadata": {},
   "outputs": [],
   "source": [
    "driver = open_browser(\"chrome\")"
   ]
  },
  {
   "cell_type": "code",
   "execution_count": 30,
   "metadata": {},
   "outputs": [
    {
     "data": {
      "text/plain": [
       "'Google'"
      ]
     },
     "execution_count": 30,
     "metadata": {},
     "output_type": "execute_result"
    }
   ],
   "source": [
    "driver.get(\"https://www.google.com\")\n",
    "driver.title"
   ]
  },
  {
   "cell_type": "code",
   "execution_count": 31,
   "metadata": {},
   "outputs": [],
   "source": [
    "#driver = open_browser(\"chrome\")\n",
    "driver.get(\"https://courses.letskodeit.com/practice\")"
   ]
  },
  {
   "cell_type": "code",
   "execution_count": 32,
   "metadata": {},
   "outputs": [],
   "source": [
    "# maximizing window\n",
    "driver.maximize_window()"
   ]
  },
  {
   "cell_type": "markdown",
   "metadata": {},
   "source": [
    "# Working with webelements"
   ]
  },
  {
   "cell_type": "code",
   "execution_count": 15,
   "metadata": {},
   "outputs": [
    {
     "name": "stdout",
     "output_type": "stream",
     "text": [
      "We found an element by Id\n"
     ]
    }
   ],
   "source": [
    "#Locating element by id\n",
    "elementById = driver.find_element_by_id(\"name\")\n",
    "\n",
    "if elementById is not None:\n",
    "    print(\"We found an element by Id\")\n",
    "    elementById.send_keys(\"ID\")"
   ]
  },
  {
   "cell_type": "code",
   "execution_count": 16,
   "metadata": {},
   "outputs": [
    {
     "name": "stdout",
     "output_type": "stream",
     "text": [
      "We found an element by Name\n"
     ]
    }
   ],
   "source": [
    "#Locating element by name\n",
    "elementByName = driver.find_element_by_name(\"show-hide\")\n",
    "\n",
    "if elementByName is not None:\n",
    "    print(\"We found an element by Name\")\n",
    "    elementByName.send_keys(\"Name element\")"
   ]
  },
  {
   "cell_type": "code",
   "execution_count": 17,
   "metadata": {},
   "outputs": [
    {
     "name": "stdout",
     "output_type": "stream",
     "text": [
      "We found an element by XPATH\n"
     ]
    }
   ],
   "source": [
    "#Locating element using xpath\n",
    "elementByXpath = driver.find_element_by_xpath(\"//input[@id='name']\")\n",
    "\n",
    "if elementByXpath is not None:\n",
    "    print(\"We found an element by XPATH\")\n",
    "    elementByXpath.send_keys(\" xpath\")"
   ]
  },
  {
   "cell_type": "code",
   "execution_count": 18,
   "metadata": {},
   "outputs": [
    {
     "name": "stdout",
     "output_type": "stream",
     "text": [
      "We found an element by CSS\n"
     ]
    }
   ],
   "source": [
    "#Locating element using CSS\n",
    "elementByCss = driver.find_element_by_css_selector(\"#displayed-text\")\n",
    "\n",
    "if elementByCss is not None:\n",
    "    print(\"We found an element by CSS\")"
   ]
  },
  {
   "cell_type": "code",
   "execution_count": 20,
   "metadata": {},
   "outputs": [
    {
     "name": "stdout",
     "output_type": "stream",
     "text": [
      "We found an element by Link Text\n"
     ]
    }
   ],
   "source": [
    "#Locating element using Link Text\n",
    "elementByLinkText = driver.find_element_by_link_text(\"SIGN IN\")\n",
    "\n",
    "if elementByLinkText is not None:\n",
    "    print(\"We found an element by Link Text\")\n",
    "    elementByLinkText.click()"
   ]
  },
  {
   "cell_type": "code",
   "execution_count": 22,
   "metadata": {},
   "outputs": [
    {
     "name": "stdout",
     "output_type": "stream",
     "text": [
      "We found an element by Partial Link Text\n"
     ]
    }
   ],
   "source": [
    "#Locating element using partial link text\n",
    "elementByPartialLinkText = driver.find_element_by_partial_link_text(\"SUPP\")\n",
    "\n",
    "if elementByPartialLinkText is not None:\n",
    "    print(\"We found an element by Partial Link Text\")\n",
    "    elementByPartialLinkText.click()"
   ]
  },
  {
   "cell_type": "code",
   "execution_count": 23,
   "metadata": {},
   "outputs": [
    {
     "name": "stdout",
     "output_type": "stream",
     "text": [
      "We found an element by Class Name\n"
     ]
    }
   ],
   "source": [
    "#Locating elemnet using class name\n",
    "elementByClassName = driver.find_element_by_class_name(\"displayed-class\")\n",
    "elementByClassName.send_keys(\"Testing The Element\")\n",
    "\n",
    "if elementByClassName is not None:\n",
    "    print(\"We found an element by Class Name\")"
   ]
  },
  {
   "cell_type": "code",
   "execution_count": 37,
   "metadata": {},
   "outputs": [
    {
     "name": "stdout",
     "output_type": "stream",
     "text": [
      "We found an element by Tag Name and the text on element is: Practice Page\n"
     ]
    }
   ],
   "source": [
    "#Locating element using tag name\n",
    "elementByTagName = driver.find_element_by_tag_name(\"h1\")\n",
    "text = elementByTagName.text\n",
    "\n",
    "if elementByTagName is not None:\n",
    "    print(\"We found an element by Tag Name and the text on element is: \" + text)"
   ]
  },
  {
   "cell_type": "markdown",
   "metadata": {},
   "source": [
    "# Locating elements using BY module"
   ]
  },
  {
   "cell_type": "code",
   "execution_count": 33,
   "metadata": {},
   "outputs": [],
   "source": [
    "from selenium.webdriver.common.by import By"
   ]
  },
  {
   "cell_type": "code",
   "execution_count": 22,
   "metadata": {},
   "outputs": [
    {
     "name": "stdout",
     "output_type": "stream",
     "text": [
      "We found an element by Id\n"
     ]
    }
   ],
   "source": [
    "#Locating using By.ID\n",
    "elementById = driver.find_element(By.ID, \"name\")\n",
    "\n",
    "if elementById is not None:\n",
    "    print(\"We found an element by Id\")"
   ]
  },
  {
   "cell_type": "code",
   "execution_count": 23,
   "metadata": {},
   "outputs": [
    {
     "name": "stdout",
     "output_type": "stream",
     "text": [
      "We found an element by XPATH\n"
     ]
    }
   ],
   "source": [
    "#Locating using By.XPATH\n",
    "elementByXpath = driver.find_element(By.XPATH, \"//input[@id='displayed-text']\")\n",
    "\n",
    "if elementByXpath is not None:\n",
    "    print(\"We found an element by XPATH\")"
   ]
  },
  {
   "cell_type": "markdown",
   "metadata": {},
   "source": [
    "# Locating multiple webelements"
   ]
  },
  {
   "cell_type": "code",
   "execution_count": 36,
   "metadata": {},
   "outputs": [
    {
     "name": "stdout",
     "output_type": "stream",
     "text": [
      "ClassName -> Size of the list is: 2\n"
     ]
    }
   ],
   "source": [
    "elementListByClassName = driver.find_elements_by_class_name(\"inputs\")\n",
    "length1 = len(elementListByClassName)\n",
    "\n",
    "if elementListByClassName is not None:\n",
    "    print(\"ClassName -> Size of the list is: \" + str(length1))"
   ]
  },
  {
   "cell_type": "code",
   "execution_count": 25,
   "metadata": {},
   "outputs": [
    {
     "name": "stdout",
     "output_type": "stream",
     "text": [
      "TagName -> Size of the list is: 9\n"
     ]
    }
   ],
   "source": [
    "elementListByTagName = driver.find_elements(By.TAG_NAME, \"td\")\n",
    "length2 = len(elementListByTagName)\n",
    "\n",
    "if elementListByTagName is not None:\n",
    "    print(\"TagName -> Size of the list is: \" + str(length2))"
   ]
  },
  {
   "cell_type": "code",
   "execution_count": 26,
   "metadata": {},
   "outputs": [],
   "source": [
    "#Quiting browser\n",
    "driver.quit()"
   ]
  },
  {
   "cell_type": "markdown",
   "metadata": {},
   "source": [
    "# End"
   ]
  }
 ],
 "metadata": {
  "kernelspec": {
   "display_name": "Python 3",
   "language": "python",
   "name": "python3"
  },
  "language_info": {
   "codemirror_mode": {
    "name": "ipython",
    "version": 3
   },
   "file_extension": ".py",
   "mimetype": "text/x-python",
   "name": "python",
   "nbconvert_exporter": "python",
   "pygments_lexer": "ipython3",
   "version": "3.8.5"
  }
 },
 "nbformat": 4,
 "nbformat_minor": 2
}
