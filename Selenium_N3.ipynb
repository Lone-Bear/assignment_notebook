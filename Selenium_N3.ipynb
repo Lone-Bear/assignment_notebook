{
 "cells": [
  {
   "cell_type": "markdown",
   "metadata": {},
   "source": [
    "# Working with Radio elements and checkboxes"
   ]
  },
  {
   "cell_type": "code",
   "execution_count": 2,
   "metadata": {},
   "outputs": [],
   "source": [
    "#importing py files\n",
    "import utility,config"
   ]
  },
  {
   "cell_type": "code",
   "execution_count": 3,
   "metadata": {},
   "outputs": [],
   "source": [
    "driver = utility.open_browser(config.browser)"
   ]
  },
  {
   "cell_type": "code",
   "execution_count": 4,
   "metadata": {},
   "outputs": [],
   "source": [
    "driver.get(config.baseUrl)\n",
    "driver.maximize_window()"
   ]
  },
  {
   "cell_type": "code",
   "execution_count": 5,
   "metadata": {},
   "outputs": [],
   "source": [
    "#Selecting BMW\n",
    "bmwRadioBtn = driver.find_element_by_id(\"bmwradio\")\n",
    "bmwRadioBtn.click()"
   ]
  },
  {
   "cell_type": "code",
   "execution_count": 9,
   "metadata": {},
   "outputs": [],
   "source": [
    "#Selecting Benz\n",
    "benzRadioBtn = driver.find_element_by_id(\"benzradio\")\n",
    "benzRadioBtn.click()"
   ]
  },
  {
   "cell_type": "code",
   "execution_count": 10,
   "metadata": {},
   "outputs": [],
   "source": [
    "#Selecting checkbox bmw\n",
    "bmwCheckbox = driver.find_element_by_id(\"bmwcheck\")\n",
    "bmwCheckbox.click()"
   ]
  },
  {
   "cell_type": "code",
   "execution_count": 11,
   "metadata": {},
   "outputs": [],
   "source": [
    "#Selecting checkbox benz\n",
    "benzCheckbox = driver.find_element_by_id(\"benzcheck\")\n",
    "benzCheckbox.click()"
   ]
  },
  {
   "cell_type": "code",
   "execution_count": 12,
   "metadata": {},
   "outputs": [
    {
     "name": "stdout",
     "output_type": "stream",
     "text": [
      "BMW Radio button is selected? False\n",
      "Benz Radio button is selected? True\n",
      "BMW Checkbox is selected? True\n",
      "Benz Checkbox is selected? True\n"
     ]
    }
   ],
   "source": [
    "#Printing result if selected\n",
    "print(\"BMW Radio button is selected? \" + str(bmwRadioBtn.is_selected())) # True if selected, False if not selected\n",
    "print(\"Benz Radio button is selected? \" + str(benzRadioBtn.is_selected()))\n",
    "print(\"BMW Checkbox is selected? \" + str(bmwCheckbox.is_selected()))\n",
    "print(\"Benz Checkbox is selected? \" + str(benzCheckbox.is_selected()))"
   ]
  },
  {
   "cell_type": "markdown",
   "metadata": {},
   "source": [
    "# Working with drop downs"
   ]
  },
  {
   "cell_type": "code",
   "execution_count": 6,
   "metadata": {},
   "outputs": [],
   "source": [
    "from selenium.webdriver.support.select import Select"
   ]
  },
  {
   "cell_type": "code",
   "execution_count": 7,
   "metadata": {},
   "outputs": [],
   "source": [
    "#Creating a Select object\n",
    "element = driver.find_element_by_id(\"carselect\")\n",
    "sel = Select(element)"
   ]
  },
  {
   "cell_type": "code",
   "execution_count": 15,
   "metadata": {},
   "outputs": [
    {
     "name": "stdout",
     "output_type": "stream",
     "text": [
      "Select Benz by value\n"
     ]
    }
   ],
   "source": [
    "#Selecting by value\n",
    "sel.select_by_value(\"benz\")\n",
    "print(\"Select Benz by value\")"
   ]
  },
  {
   "cell_type": "code",
   "execution_count": 16,
   "metadata": {},
   "outputs": [
    {
     "name": "stdout",
     "output_type": "stream",
     "text": [
      "Select Honda by index\n"
     ]
    }
   ],
   "source": [
    "#Selecting by index\n",
    "sel.select_by_index(\"2\")\n",
    "print(\"Select Honda by index\")"
   ]
  },
  {
   "cell_type": "code",
   "execution_count": 17,
   "metadata": {},
   "outputs": [
    {
     "name": "stdout",
     "output_type": "stream",
     "text": [
      "Select BMW by visible text\n"
     ]
    }
   ],
   "source": [
    "#Selecting by visible text\n",
    "sel.select_by_visible_text(\"BMW\")\n",
    "print(\"Select BMW by visible text\")"
   ]
  },
  {
   "cell_type": "markdown",
   "metadata": {},
   "source": [
    "# End"
   ]
  }
 ],
 "metadata": {
  "kernelspec": {
   "display_name": "Python 3",
   "language": "python",
   "name": "python3"
  },
  "language_info": {
   "codemirror_mode": {
    "name": "ipython",
    "version": 3
   },
   "file_extension": ".py",
   "mimetype": "text/x-python",
   "name": "python",
   "nbconvert_exporter": "python",
   "pygments_lexer": "ipython3",
   "version": "3.8.5"
  }
 },
 "nbformat": 4,
 "nbformat_minor": 2
}
